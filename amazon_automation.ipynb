{
 "cells": [
  {
   "cell_type": "code",
   "execution_count": null,
   "id": "bc63be76",
   "metadata": {},
   "outputs": [],
   "source": [
    "import smtplib\n",
    "import requests\n",
    "from bs4 import BeautifulSoup\n",
    "from pprint import pprint\n",
    "import lxml\n",
    "import os"
   ]
  },
  {
   "cell_type": "code",
   "execution_count": null,
   "id": "bca96227",
   "metadata": {},
   "outputs": [],
   "source": [
    "User_Agent = \"Mozilla/5.0 (Windows NT 10.0; Win64; x64) AppleWebKit/537.36 (KHTML, like Gecko) Chrome/110.0.0.0 Safari/537.36\"\n",
    "Accept_Language = \"en-US,en;q=0.9,hi;q=0.8\"\n",
    "URL = \"https://www.amazon.in/boAt-Rockerz-255-Pro-Earphones/dp/B08TTXNZ4Y/ref=sr_1_1_sspa?crid=3I1MNTCE72W4N&keywords=boat+neckband+rockerz+255+pro&qid=1678282263&sprefix=boat+neckband+rockerz+255+pro%2Caps%2C497&sr=8-1-spons&sp_csd=d2lkZ2V0TmFtZT1zcF9hdGY&psc=1\"\n",
    "MY_EMAIL = os.getenv('GMAIL') # or u can set variable name like MY_EMAIL=\"your_amazon_gmail\"\n",
    "PASSWORD = os.getenv('PASSWORD') # or u can set variable name PASSWORD=\"app_password\" '''go to readme.md where you will know how to generate app password in your gmail'''\n",
    "\n",
    "headers = {\n",
    "\"User-Agent\": User_Agent,\n",
    "\"Accept-Language\": Accept_Language,\n",
    "}\n",
    "\n",
    "response = requests.get(URL, headers=headers)\n",
    "Amazon_web = response.text"
   ]
  },
  {
   "cell_type": "code",
   "execution_count": null,
   "id": "fe4cd476",
   "metadata": {},
   "outputs": [],
   "source": [
    "soup = BeautifulSoup(Amazon_web, \"lxml\")\n",
    "Boat_price = soup.find(name=\"span\", class_=\"a-price-whole\").getText().split(\".\")[0]\n",
    "floated_Boat_price = float(Boat_price.replace(\",\", \"\"))"
   ]
  },
  {
   "cell_type": "code",
   "execution_count": null,
   "id": "fa474a40",
   "metadata": {},
   "outputs": [],
   "source": [
    "if floated_Boat_price < 1200:\n",
    "    with smtplib.SMTP(\"smtp.gmail.com\", port=587) as connection:\n",
    "        connection.starttls()\n",
    "        connection.login(user=MY_EMAIL, password=PASSWORD)\n",
    "        connection.sendmail(\n",
    "        from_addr=MY_EMAIL,\n",
    "        to_addrs=\"vedantparmar255@gmail.com\",\n",
    "        msg=f\"Subject: Boat Neckband Prize Alert!!\"\n",
    "        f\"\\n\\nThe price of the boat rockerz 255 pro+ is drop down to {floated_Boat_price} Rs. below 1500 Rs. and you can \"\n",
    "        f\"buy it now.\\n\\nTap the link Below to buy the product: \\n\\n{URL}\"\n",
    "        )"
   ]
  }
 ],
 "metadata": {
  "kernelspec": {
   "display_name": "Python 3 (ipykernel)",
   "language": "python",
   "name": "python3"
  },
  "language_info": {
   "codemirror_mode": {
    "name": "ipython",
    "version": 3
   },
   "file_extension": ".py",
   "mimetype": "text/x-python",
   "name": "python",
   "nbconvert_exporter": "python",
   "pygments_lexer": "ipython3",
   "version": "3.11.5"
  }
 },
 "nbformat": 4,
 "nbformat_minor": 5
}
